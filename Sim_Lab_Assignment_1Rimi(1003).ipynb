{
  "nbformat": 4,
  "nbformat_minor": 0,
  "metadata": {
    "colab": {
      "provenance": []
    },
    "kernelspec": {
      "name": "python3",
      "display_name": "Python 3"
    },
    "language_info": {
      "name": "python"
    }
  },
  "cells": [
    {
      "cell_type": "code",
      "execution_count": null,
      "metadata": {
        "id": "LQGz-vEaWPGs"
      },
      "outputs": [],
      "source": [
        "import numpy as np\n",
        "import matplotlib.pyplot as plt\n",
        "from scipy import stats"
      ]
    },
    {
      "cell_type": "code",
      "source": [
        "import numpy as np # Added import statement\n",
        "k = 3   #last two digits of my id 03\n",
        "np.random.seed(0)\n",
        "\n",
        "data = 60 + np.random.randint(0, 15, size=12) + (k % 5)\n",
        "print(\"Sample Data:\", data)"
      ],
      "metadata": {
        "colab": {
          "base_uri": "https://localhost:8080/"
        },
        "id": "PGuKoFx-WsGo",
        "outputId": "d0fd9efb-092f-4441-c707-567a7dee5d79"
      },
      "execution_count": null,
      "outputs": [
        {
          "output_type": "stream",
          "name": "stdout",
          "text": [
            "Sample Data: [75 68 63 66 74 66 70 72 66 68 65 67]\n"
          ]
        }
      ]
    },
    {
      "cell_type": "code",
      "source": [
        "from scipy import stats # Added import statement\n",
        "mu = 65\n",
        "\n",
        "t_stat, p_value = stats.ttest_1samp(data, mu)\n",
        "sample_mean = np.mean(data)\n",
        "df = len(data) - 1\n",
        "\n",
        "print(f\"\\nSample Mean = {sample_mean:.2f}\")\n",
        "print(f\"Hypothesized Mean = {mu}\")\n",
        "print(f\"t-Statistic = {t_stat:.4f}\")\n",
        "print(f\"Degrees of Freedom = {df}\")\n",
        "print(f\"p-value = {p_value:.4f}\")"
      ],
      "metadata": {
        "colab": {
          "base_uri": "https://localhost:8080/"
        },
        "id": "bJnU5-uLXQRQ",
        "outputId": "b5a1a428-045c-492b-b89f-8bcdb7cb405a"
      },
      "execution_count": null,
      "outputs": [
        {
          "output_type": "stream",
          "name": "stdout",
          "text": [
            "\n",
            "Sample Mean = 68.33\n",
            "Hypothesized Mean = 65\n",
            "t-Statistic = 3.1200\n",
            "Degrees of Freedom = 11\n",
            "p-value = 0.0097\n"
          ]
        }
      ]
    },
    {
      "cell_type": "code",
      "source": [
        "confidence = 0.95\n",
        "se = stats.sem(data)  # standard error\n",
        "ci = stats.t.interval(confidence, df, loc=sample_mean, scale=se)\n",
        "\n",
        "print(f\"95% Confidence Interval for mean: {ci}\")"
      ],
      "metadata": {
        "colab": {
          "base_uri": "https://localhost:8080/"
        },
        "id": "kLP4QNl5XYHw",
        "outputId": "2a0f0937-2bac-49c5-de36-87b678667f8e"
      },
      "execution_count": null,
      "outputs": [
        {
          "output_type": "stream",
          "name": "stdout",
          "text": [
            "95% Confidence Interval for mean: (np.float64(65.98186714282707), np.float64(70.68479952383959))\n"
          ]
        }
      ]
    },
    {
      "cell_type": "code",
      "source": [
        "alpha = 0.05\n",
        "if p_value < alpha:\n",
        "    print(\"Reject H0: The population mean is significantly different from 65.\")\n",
        "else:\n",
        "    print(\"Fail to reject H0: Not enough evidence that mean is different from 65.\")"
      ],
      "metadata": {
        "colab": {
          "base_uri": "https://localhost:8080/"
        },
        "id": "qvcSJ_bvXZjA",
        "outputId": "ade1ede1-f6c8-4ba3-f7cd-b6d9cb31b1cc"
      },
      "execution_count": null,
      "outputs": [
        {
          "output_type": "stream",
          "name": "stdout",
          "text": [
            "Reject H0: The population mean is significantly different from 65.\n"
          ]
        }
      ]
    },
    {
      "cell_type": "code",
      "source": [
        "plt.figure(figsize=(8,6))\n",
        "plt.errorbar(1, sample_mean, yerr=se, fmt='o', color='blue', label=\"Sample Mean ± SE\")\n",
        "plt.axhline(y=mu, color='red', linestyle='--', label=\"Hypothesized Mean = 65\")\n",
        "plt.xticks([])\n",
        "plt.ylabel(\"Exam Score\")\n",
        "plt.title(\"One-Sample t-Test Visualization (ID = 03)\")\n",
        "plt.legend()\n",
        "plt.show()"
      ],
      "metadata": {
        "colab": {
          "base_uri": "https://localhost:8080/",
          "height": 521
        },
        "id": "5EDKw3KSXdf4",
        "outputId": "897550cc-0e21-4eee-f3c7-d5b120a2f0af"
      },
      "execution_count": 11,
      "outputs": [
        {
          "output_type": "display_data",
          "data": {
            "text/plain": [
              "<Figure size 800x600 with 1 Axes>"
            ],
            "image/png": "[encoded data removed]"
          },
          "metadata": {}
        }
      ]
    }
  ]
}